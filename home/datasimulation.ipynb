{
 "cells": [
  {
   "cell_type": "code",
   "execution_count": 2,
   "metadata": {},
   "outputs": [
    {
     "name": "stdout",
     "output_type": "stream",
     "text": [
      "Water usage data has been written to 'water_usage_data.csv'\n"
     ]
    }
   ],
   "source": [
    "import csv\n",
    "import random\n",
    "import datetime\n",
    "\n",
    "# Device names\n",
    "device_names = [\"Faucet\", \"Toilet\", \"Shower\", \"Dishwasher\", \"Washing Machine\", \"Water Heater\", \"Garden Sprinkler\", \"Bath\"]\n",
    "\n",
    "# Function to generate simulated water usage data with device names\n",
    "def generate_usage_data(num_devices, start_date, end_date):\n",
    "    usage_data = {}\n",
    "    current_date = start_date\n",
    "    while current_date <= end_date:\n",
    "        for device_id in range(1, num_devices + 1):\n",
    "            device_name = random.choice(device_names)\n",
    "            # Simulate random water usage between 0 and 100 liters per hour\n",
    "            usage = random.uniform(0, 100)\n",
    "            if device_name not in usage_data:\n",
    "                usage_data[device_name] = []\n",
    "            # Add usage data for current timestamp\n",
    "            usage_data[device_name].append((current_date, usage))\n",
    "        # Increment current date by 1 hour\n",
    "        current_date += datetime.timedelta(hours=1)\n",
    "    return usage_data\n",
    "\n",
    "# Function to write usage data to a CSV file\n",
    "def write_to_csv(usage_data, filename):\n",
    "    with open(filename, 'w', newline='') as csvfile:\n",
    "        writer = csv.writer(csvfile)\n",
    "        writer.writerow(['Device Name', 'Timestamp', 'Usage (liters)'])\n",
    "        for device_name, usage_list in usage_data.items():\n",
    "            for timestamp, usage in usage_list:\n",
    "                writer.writerow([device_name, timestamp, usage])\n",
    "\n",
    "# Example usage: Generate data for 5 devices over a period of 24 hours\n",
    "num_devices = 5\n",
    "start_date = datetime.datetime(2024, 6, 1, 0, 0, 0)  # Start date and time\n",
    "end_date = datetime.datetime(2024, 6, 2, 0, 0, 0)    # End date and time\n",
    "usage_data = generate_usage_data(num_devices, start_date, end_date)\n",
    "\n",
    "# Write the generated usage data to a CSV file\n",
    "csv_filename = 'water_usage_data.csv'\n",
    "write_to_csv(usage_data, csv_filename)\n",
    "\n",
    "print(f\"Water usage data has been written to '{csv_filename}'\")\n"
   ]
  },
  {
   "cell_type": "code",
   "execution_count": 3,
   "metadata": {},
   "outputs": [
    {
     "name": "stdout",
     "output_type": "stream",
     "text": [
      "April water usage data has been written to 'april_water_usage_data.csv'\n"
     ]
    }
   ],
   "source": [
    "import random\n",
    "import datetime\n",
    "\n",
    "# Device names\n",
    "device_names = [\"Faucet\", \"Toilet\", \"Shower\", \"Dishwasher\", \"Washing Machine\", \"Water Heater\", \"Garden Sprinkler\", \"Bath\"]\n",
    "\n",
    "# Function to generate simulated water usage data with device names for the month of April\n",
    "def generate_april_usage_data(num_devices, year):\n",
    "    april_data = {}\n",
    "    start_date = datetime.datetime(year, 4, 1, 0, 0, 0)  # Start date and time for April\n",
    "    end_date = datetime.datetime(year, 4, 30, 23, 59, 59)  # End date and time for April\n",
    "    current_date = start_date\n",
    "    while current_date <= end_date:\n",
    "        for device_id in range(1, num_devices + 1):\n",
    "            device_name = random.choice(device_names)\n",
    "            # Simulate random water usage between 0 and 100 liters per hour\n",
    "            usage = random.uniform(0, 100)\n",
    "            if device_name not in april_data:\n",
    "                april_data[device_name] = []\n",
    "            # Add usage data for current timestamp\n",
    "            april_data[device_name].append((current_date, usage))\n",
    "        # Increment current date by 1 hour\n",
    "        current_date += datetime.timedelta(hours=1)\n",
    "    return april_data\n",
    "\n",
    "# Example usage: Generate data for 5 devices for April 2024\n",
    "num_devices = 5\n",
    "april_usage_data = generate_april_usage_data(num_devices, 2024)\n",
    "\n",
    "# Write the generated usage data to a CSV file\n",
    "csv_filename = 'april_water_usage_data.csv'\n",
    "write_to_csv(april_usage_data, csv_filename)\n",
    "\n",
    "print(f\"April water usage data has been written to '{csv_filename}'\")\n"
   ]
  }
 ],
 "metadata": {
  "kernelspec": {
   "display_name": "Python 3",
   "language": "python",
   "name": "python3"
  },
  "language_info": {
   "codemirror_mode": {
    "name": "ipython",
    "version": 3
   },
   "file_extension": ".py",
   "mimetype": "text/x-python",
   "name": "python",
   "nbconvert_exporter": "python",
   "pygments_lexer": "ipython3",
   "version": "3.11.3"
  }
 },
 "nbformat": 4,
 "nbformat_minor": 2
}

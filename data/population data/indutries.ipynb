{
 "cells": [
  {
   "cell_type": "code",
   "execution_count": 3,
   "metadata": {},
   "outputs": [
    {
     "name": "stdout",
     "output_type": "stream",
     "text": [
      "    Zone Name          Area Name  Industry Number\n",
      "0  North Zone         Tondiarpet               52\n",
      "1  North Zone          Royapuram               93\n",
      "2  North Zone  Thiru-Vi-Ka Nagar               15\n",
      "3  North Zone             Manali               72\n",
      "4  North Zone       Washermanpet               61\n"
     ]
    }
   ],
   "source": [
    "import pandas as pd\n",
    "import numpy as np\n",
    "\n",
    "# Use StringIO to read the CSV string as if it were a file\n",
    "df = pd.read_csv(\"D:\\Water Management System\\data\\zone data\\chennai_zones.csv\")\n",
    "\n",
    "# Generate random industry numbers\n",
    "np.random.seed(42)  # For reproducibility\n",
    "df['Industry Number'] = np.random.randint(1, 101, size=len(df))\n",
    "\n",
    "# Save the DataFrame to a CSV file\n",
    "df.to_csv('areas_with_industries.csv', index=False)\n",
    "\n",
    "# Display the DataFrame\n",
    "print(df.head())\n"
   ]
  }
 ],
 "metadata": {
  "kernelspec": {
   "display_name": "Python 3",
   "language": "python",
   "name": "python3"
  },
  "language_info": {
   "codemirror_mode": {
    "name": "ipython",
    "version": 3
   },
   "file_extension": ".py",
   "mimetype": "text/x-python",
   "name": "python",
   "nbconvert_exporter": "python",
   "pygments_lexer": "ipython3",
   "version": "3.11.3"
  }
 },
 "nbformat": 4,
 "nbformat_minor": 2
}

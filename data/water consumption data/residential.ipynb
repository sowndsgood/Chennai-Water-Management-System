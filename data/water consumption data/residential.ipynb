{
 "cells": [
  {
   "cell_type": "code",
   "execution_count": 2,
   "metadata": {},
   "outputs": [
    {
     "name": "stdout",
     "output_type": "stream",
     "text": [
      "    Zone Name          Area Name  1 Bedroom Water Consumption (Lower)  \\\n",
      "0  North Zone         Tondiarpet                             21062400   \n",
      "1  North Zone          Royapuram                             25275000   \n",
      "2  North Zone  Thiru-Vi-Ka Nagar                             29487600   \n",
      "3  North Zone             Manali                             29487600   \n",
      "4  North Zone       Washermanpet                             25275000   \n",
      "\n",
      "   1 Bedroom Water Consumption (Upper)  2 Bedroom Water Consumption (Lower)  \\\n",
      "0                             28083200                             33732750   \n",
      "1                             33700000                             40479000   \n",
      "2                             39316800                             47226000   \n",
      "3                             39316800                             47226000   \n",
      "4                             33700000                             40479000   \n",
      "\n",
      "   2 Bedroom Water Consumption (Upper)  3 Bedroom Water Consumption (Lower)  \\\n",
      "0                             44977000                             18758700   \n",
      "1                             53972000                             22510800   \n",
      "2                             62968000                             26262000   \n",
      "3                             62968000                             26262000   \n",
      "4                             53972000                             22510800   \n",
      "\n",
      "   3 Bedroom Water Consumption (Upper)  4 Bedroom Water Consumption (Lower)  \\\n",
      "0                             25011600                              9214800   \n",
      "1                             30014400                             11057550   \n",
      "2                             35016000                             12900300   \n",
      "3                             35016000                             12900300   \n",
      "4                             30014400                             11057550   \n",
      "\n",
      "   4 Bedroom Water Consumption (Upper)  \n",
      "0                             12286400  \n",
      "1                             14743400  \n",
      "2                             17200400  \n",
      "3                             17200400  \n",
      "4                             14743400  \n"
     ]
    }
   ],
   "source": [
    "import pandas as pd\n",
    "\n",
    "df = pd.read_csv(\"D:\\Water Management System\\data\\population data\\house_data.csv\")\n",
    "\n",
    "\n",
    "# Define water consumption rates per person per day\n",
    "lower_bound_per_person = 150\n",
    "upper_bound_per_person = 200\n",
    "\n",
    "# Calculate water consumption for each bedroom population\n",
    "df['1 Bedroom Water Consumption (Lower)'] = df['1 Bedroom Population'] * lower_bound_per_person\n",
    "df['1 Bedroom Water Consumption (Upper)'] = df['1 Bedroom Population'] * upper_bound_per_person\n",
    "df['2 Bedroom Water Consumption (Lower)'] = df['2 Bedroom Population'] * lower_bound_per_person\n",
    "df['2 Bedroom Water Consumption (Upper)'] = df['2 Bedroom Population'] * upper_bound_per_person\n",
    "df['3 Bedroom Water Consumption (Lower)'] = df['3 Bedroom Population'] * lower_bound_per_person\n",
    "df['3 Bedroom Water Consumption (Upper)'] = df['3 Bedroom Population'] * upper_bound_per_person\n",
    "df['4 Bedroom Water Consumption (Lower)'] = df['4 Bedroom Population'] * lower_bound_per_person\n",
    "df['4 Bedroom Water Consumption (Upper)'] = df['4 Bedroom Population'] * upper_bound_per_person\n",
    "\n",
    "# Select relevant columns for the new DataFrame\n",
    "df_water_consumption = df[[\n",
    "    'Zone Name', 'Area Name', \n",
    "    '1 Bedroom Water Consumption (Lower)', '1 Bedroom Water Consumption (Upper)',\n",
    "    '2 Bedroom Water Consumption (Lower)', '2 Bedroom Water Consumption (Upper)',\n",
    "    '3 Bedroom Water Consumption (Lower)', '3 Bedroom Water Consumption (Upper)',\n",
    "    '4 Bedroom Water Consumption (Lower)', '4 Bedroom Water Consumption (Upper)'\n",
    "]]\n",
    "\n",
    "# Save the new DataFrame to a CSV file\n",
    "df_water_consumption.to_csv('residential_data.csv', index=False)\n",
    "\n",
    "# Display the new DataFrame\n",
    "print(df_water_consumption.head())\n"
   ]
  }
 ],
 "metadata": {
  "kernelspec": {
   "display_name": "Python 3",
   "language": "python",
   "name": "python3"
  },
  "language_info": {
   "codemirror_mode": {
    "name": "ipython",
    "version": 3
   },
   "file_extension": ".py",
   "mimetype": "text/x-python",
   "name": "python",
   "nbconvert_exporter": "python",
   "pygments_lexer": "ipython3",
   "version": "3.11.3"
  }
 },
 "nbformat": 4,
 "nbformat_minor": 2
}

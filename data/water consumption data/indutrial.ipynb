{
 "cells": [
  {
   "cell_type": "code",
   "execution_count": 4,
   "metadata": {},
   "outputs": [
    {
     "name": "stdout",
     "output_type": "stream",
     "text": [
      "    Zone Name          Area Name  Industry Number  \\\n",
      "0  North Zone         Tondiarpet               52   \n",
      "1  North Zone          Royapuram               93   \n",
      "2  North Zone  Thiru-Vi-Ka Nagar               15   \n",
      "3  North Zone             Manali               72   \n",
      "4  North Zone       Washermanpet               61   \n",
      "\n",
      "   Total Daily Water Consumption (Lower)  \\\n",
      "0                                 217048   \n",
      "1                                 419151   \n",
      "2                                  27900   \n",
      "3                                 165168   \n",
      "4                                 129930   \n",
      "\n",
      "   Total Daily Water Consumption (Upper)  \n",
      "0                                 217724  \n",
      "1                                 441564  \n",
      "2                                  39540  \n",
      "3                                 190008  \n",
      "4                                 164334  \n"
     ]
    }
   ],
   "source": [
    "import pandas as pd\n",
    "import numpy as np\n",
    "\n",
    "# Use double backslashes or a raw string literal for the file path\n",
    "file_path = r\"D:\\Water Management System\\data\\population data\\areas_with_industries.csv\"\n",
    "df = pd.read_csv(file_path)\n",
    "\n",
    "# Define the range of daily water consumption per industry\n",
    "lower_bound_per_industry = 1000\n",
    "upper_bound_per_industry = 5000\n",
    "\n",
    "# Generate random daily water consumption for each industry\n",
    "np.random.seed(42)  # For reproducibility\n",
    "df['Daily Water Consumption per Industry (Lower)'] = np.random.randint(lower_bound_per_industry, upper_bound_per_industry + 1, size=len(df))\n",
    "df['Daily Water Consumption per Industry (Upper)'] = df['Daily Water Consumption per Industry (Lower)'] + np.random.randint(0, 1000, size=len(df))\n",
    "\n",
    "# Calculate total daily water consumption for all industries in each area\n",
    "df['Total Daily Water Consumption (Lower)'] = df['Industry Number'] * df['Daily Water Consumption per Industry (Lower)']\n",
    "df['Total Daily Water Consumption (Upper)'] = df['Industry Number'] * df['Daily Water Consumption per Industry (Upper)']\n",
    "\n",
    "# Select relevant columns for the new DataFrame\n",
    "df_water_consumption = df[[\n",
    "    'Zone Name', 'Area Name', 'Industry Number', \n",
    "    'Total Daily Water Consumption (Lower)', 'Total Daily Water Consumption (Upper)'\n",
    "]]\n",
    "\n",
    "# Save the DataFrame to a CSV file\n",
    "df_water_consumption.to_csv('industrial_data.csv', index=False)\n",
    "\n",
    "# Display the DataFrame\n",
    "print(df_water_consumption.head())\n"
   ]
  }
 ],
 "metadata": {
  "kernelspec": {
   "display_name": "Python 3",
   "language": "python",
   "name": "python3"
  },
  "language_info": {
   "codemirror_mode": {
    "name": "ipython",
    "version": 3
   },
   "file_extension": ".py",
   "mimetype": "text/x-python",
   "name": "python",
   "nbconvert_exporter": "python",
   "pygments_lexer": "ipython3",
   "version": "3.11.3"
  }
 },
 "nbformat": 4,
 "nbformat_minor": 2
}

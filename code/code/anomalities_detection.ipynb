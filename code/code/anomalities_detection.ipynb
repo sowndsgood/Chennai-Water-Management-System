{
 "cells": [
  {
   "cell_type": "code",
   "execution_count": 11,
   "metadata": {},
   "outputs": [
    {
     "name": "stdout",
     "output_type": "stream",
     "text": [
      "       Zone Name  Area Name  Schools  Colleges  Canteens  Hotels    Malls  \\\n",
      "1   Central Zone     Egmore  1186364    224161     91964  146345   202764   \n",
      "13    North Zone  Royapuram  1930157    420855    860395   19953  1000419   \n",
      "\n",
      "    Hospitals  Railway Stations  Offices  Stadiums  Theaters  Bus Stations  \\\n",
      "1       20651            600401  5523119    230734    801933        227294   \n",
      "13     483806            577704  3425408    327170    224548         36763   \n",
      "\n",
      "    1 Bedroom House  2 Bedroom House  3 Bedroom House  4 Bedroom House  \\\n",
      "1          27091925         16216638          2939214          6619354   \n",
      "13          5742491         39313344           721803         11779950   \n",
      "\n",
      "    Industries  \n",
      "1         9460  \n",
      "13       45980  \n"
     ]
    }
   ],
   "source": [
    "import pandas as pd\n",
    "\n",
    "# Load the simulated data\n",
    "df = pd.read_csv(r\"D:\\Water Management System\\data\\sensor data consumption\\real_time_water_consumption_data.csv\")\n",
    "df_bound = pd.read_csv(r\"D:\\Water Management System\\data\\water consumption data\\overall_data.csv\")\n",
    "\n",
    "# Define a function to detect anomalies\n",
    "def detect_anomalies(row, upper_bounds):\n",
    "    anomalies = {}\n",
    "    if row['Area Name'] == 'Royapuram' and row['Industries'] > upper_bounds['Industries'].iloc[0]:\n",
    "        anomalies['Industries'] = row['Industries']\n",
    "    if row['Area Name'] == 'Sowcarpet' and row['Stadiums'] > upper_bounds['Stadiums'].iloc[0]:\n",
    "        anomalies['Stadiums'] = row['Stadiums']\n",
    "    if row['Area Name'] == 'Egmore' and row['Theaters'] > upper_bounds['Theaters'].iloc[0]:\n",
    "        anomalies['Theaters'] = row['Theaters']\n",
    "    if row['Area Name'] == 'Guindy' and row['Colleges'] > upper_bounds['Colleges'].iloc[0]:\n",
    "        anomalies['Colleges'] = row['Colleges']\n",
    "    if row['Area Name'] == 'Saidapet' and row['Malls'] > upper_bounds['Malls'].iloc[0]:\n",
    "        anomalies['Malls'] = row['Malls']\n",
    "    if row['Area Name'] == 'Tambaram' and row['Bus Stations'] > upper_bounds['Bus Stations'].iloc[0]:\n",
    "        anomalies['Bus Stations'] = row['Bus Stations']\n",
    "    if row['Area Name'] == 'Perambur' and row['2 Bedroom House'] > upper_bounds['2 Bedroom House'].iloc[0]:\n",
    "        anomalies['2 Bedroom House'] = row['2 Bedroom House']\n",
    "\n",
    "    return pd.Series(anomalies)\n",
    "\n",
    "# Apply the function to detect anomalies for each row\n",
    "anomalies = df.apply(detect_anomalies, axis=1, upper_bounds=upper_bounds)\n",
    "\n",
    "# Filter rows with anomalies\n",
    "anomalous_data = df[anomalies.notnull().any(axis=1)]\n",
    "\n",
    "# Save anomalous data to CSV\n",
    "anomalous_data.to_csv('anomalous_water_consumption_data.csv', index=False)\n",
    "\n",
    "# Display the anomalous data\n",
    "print(anomalous_data.head())\n"
   ]
  }
 ],
 "metadata": {
  "kernelspec": {
   "display_name": "Python 3",
   "language": "python",
   "name": "python3"
  },
  "language_info": {
   "codemirror_mode": {
    "name": "ipython",
    "version": 3
   },
   "file_extension": ".py",
   "mimetype": "text/x-python",
   "name": "python",
   "nbconvert_exporter": "python",
   "pygments_lexer": "ipython3",
   "version": "3.11.3"
  }
 },
 "nbformat": 4,
 "nbformat_minor": 2
}
